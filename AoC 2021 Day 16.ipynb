{
 "cells": [
  {
   "cell_type": "code",
   "execution_count": 19,
   "metadata": {},
   "outputs": [],
   "source": [
    "import numpy as np\n",
    "from textwrap import wrap"
   ]
  },
  {
   "cell_type": "markdown",
   "metadata": {},
   "source": [
    "# Day 16\n",
    "## Part 1"
   ]
  },
  {
   "cell_type": "code",
   "execution_count": 20,
   "metadata": {},
   "outputs": [],
   "source": [
    "test0 = \"D2FE28\"\n",
    "test1 = \"38006F45291200\"\n",
    "test2 = \"EE00D40C823060\"\n",
    "input_data = \"60552F100693298A9EF0039D24B129BA56D67282E600A4B5857002439CE580E5E5AEF67803600D2E294B2FCE8AC489BAEF37FEACB31A678548034EA0086253B183F4F6BDDE864B13CBCFBC4C10066508E3F4B4B9965300470026E92DC2960691F7F3AB32CBE834C01A9B7A933E9D241003A520DF316647002E57C1331DFCE16A249802DA009CAD2117993CD2A253B33C8BA00277180390F60E45D30062354598AA4008641A8710FCC01492FB75004850EE5210ACEF68DE2A327B12500327D848028ED0046661A209986896041802DA0098002131621842300043E3C4168B12BCB6835C00B6033F480C493003C40080029F1400B70039808AC30024C009500208064C601674804E870025003AA400BED8024900066272D7A7F56A8FB0044B272B7C0E6F2392E3460094FAA5002512957B98717004A4779DAECC7E9188AB008B93B7B86CB5E47B2B48D7CAD3328FB76B40465243C8018F49CA561C979C182723D769642200412756271FC80460A00CC0401D8211A2270803D10A1645B947B3004A4BA55801494BC330A5BB6E28CCE60BE6012CB2A4A854A13CD34880572523898C7EDE1A9FA7EED53F1F38CD418080461B00440010A845152360803F0FA38C7798413005E4FB102D004E6492649CC017F004A448A44826AB9BFAB5E0AA8053306B0CE4D324BB2149ADDA2904028600021909E0AC7F0004221FC36826200FC3C8EB10940109DED1960CCE9A1008C731CB4FD0B8BD004872BC8C3A432BC8C3A4240231CF1C78028200F41485F100001098EB1F234900505224328612AF33A97367EA00CC4585F315073004E4C2B003530004363847889E200C45985F140C010A005565FD3F06C249F9E3BC8280804B234CA3C962E1F1C64ADED77D10C3002669A0C0109FB47D9EC58BC01391873141197DCBCEA401E2CE80D0052331E95F373798F4AF9B998802D3B64C9AB6617080\"\n"
   ]
  },
  {
   "cell_type": "code",
   "execution_count": 40,
   "metadata": {},
   "outputs": [
    {
     "name": "stdout",
     "output_type": "stream",
     "text": [
      "v=6, t=4\n",
      "Found Number\n",
      "num='011111100101': 2021, rem_bits='000'\n",
      "v=1, t=6\n",
      "Found Operator\n",
      "lt=0, l=27\n"
     ]
    }
   ],
   "source": [
    "def hex_to_bits(s: str) -> str:\n",
    "    return \"\".join([bin(int(x, 16))[2:].zfill(4) for x in s])\n",
    "\n",
    "def bits_to_int(bits: str) -> int:\n",
    "    return int(f\"0b{bits}\", 0)\n",
    "\n",
    "def parse_bits(s: str):\n",
    "    bits = hex_to_bits(s)\n",
    "    v = bits_to_int(bits[:3])\n",
    "    t = bits_to_int(bits[3:6])\n",
    "    print(f\"{v=}, {t=}\")\n",
    "    if t == 4:\n",
    "        print(\"Found Number\")\n",
    "        num = \"\"\n",
    "        end = False\n",
    "        for i, x in enumerate(wrap(bits[6:], 5)):\n",
    "            if x[0] == \"0\":\n",
    "                end = True\n",
    "            num += x[1:]\n",
    "            if end:\n",
    "                break\n",
    "        rem_bits = \"\".join(list(wrap(bits[6:], 5))[i+1:])\n",
    "        print(f\"{num=}: {bits_to_int(num)}, {rem_bits=}\")\n",
    "        \n",
    "        return bits_to_int(num), rem_bits\n",
    "\n",
    "    elif t == 6:\n",
    "        print(\"Found Operator\")\n",
    "        lt = bits_to_int(bits[6])\n",
    "        if lt == 0:\n",
    "            l = bits_to_int(bits[7:7+15])\n",
    "        print(f\"{lt=}, {l=}\")\n",
    "        rem_bits = bits[7:]\n",
    "        \n",
    "        \n",
    "        \n",
    "            \n",
    "    \n",
    "parse_bits(test0)\n",
    "parse_bits(test1)"
   ]
  },
  {
   "cell_type": "code",
   "execution_count": 22,
   "metadata": {},
   "outputs": [
    {
     "name": "stdout",
     "output_type": "stream",
     "text": [
      "10111\n",
      "11110\n",
      "00101\n",
      "000\n"
     ]
    }
   ],
   "source": [
    "for i in wrap(\"110100101111111000101000\"[6:], 5):\n",
    "    print(i)"
   ]
  }
 ],
 "metadata": {
  "kernelspec": {
   "display_name": "Python 3.9.6 64-bit",
   "language": "python",
   "name": "python3"
  },
  "language_info": {
   "codemirror_mode": {
    "name": "ipython",
    "version": 3
   },
   "file_extension": ".py",
   "mimetype": "text/x-python",
   "name": "python",
   "nbconvert_exporter": "python",
   "pygments_lexer": "ipython3",
   "version": "3.9.6"
  },
  "orig_nbformat": 4,
  "vscode": {
   "interpreter": {
    "hash": "81794d4967e6c3204c66dcd87b604927b115b27c00565d3d43f05ba2f3a2cb0d"
   }
  }
 },
 "nbformat": 4,
 "nbformat_minor": 2
}
